{
 "cells": [
  {
   "cell_type": "markdown",
   "source": [
    "# NUFFT\n",
    "\n",
    "Examples illustrating the `nufft` methods\n",
    "in the Julia package\n",
    "[`MIRT`](https://github.com/JeffFessler/MIRT.jl).\n",
    "\n",
    "The `nufft` functions in this package\n",
    "are wrappers around\n",
    "[NFFT.jl](https://github.com/JuliaMath/NFFT.jl).\n",
    "\n",
    "The plots on this page\n",
    "are simply sanity checks\n",
    "about of the approximation error\n",
    "for that package\n",
    "and they help verify the correctness\n",
    "of the wrapper."
   ],
   "metadata": {}
  },
  {
   "cell_type": "markdown",
   "source": [
    "### Setup"
   ],
   "metadata": {}
  },
  {
   "cell_type": "markdown",
   "source": [
    "Packages needed here."
   ],
   "metadata": {}
  },
  {
   "outputs": [],
   "cell_type": "code",
   "source": [
    "using Plots; default(markerstrokecolor = :auto, label=\"\")\n",
    "using MIRTjim: prompt\n",
    "using MIRT: nufft_init, nufft_errors, dtft\n",
    "using InteractiveUtils: versioninfo"
   ],
   "metadata": {},
   "execution_count": null
  },
  {
   "cell_type": "markdown",
   "source": [
    "The following line is helpful when running this file as a script;\n",
    "this way it will prompt user to hit a key after each figure is displayed."
   ],
   "metadata": {}
  },
  {
   "outputs": [],
   "cell_type": "code",
   "source": [
    "isinteractive() && prompt(:prompt);"
   ],
   "metadata": {},
   "execution_count": null
  },
  {
   "cell_type": "markdown",
   "source": [
    "## 1D example\n",
    "\n",
    "This code illustrates how to call the NUFFT."
   ],
   "metadata": {}
  },
  {
   "outputs": [],
   "cell_type": "code",
   "source": [
    "Ω = range(-1,1,301) * π # digital frequencies (radians/sample)\n",
    "N = 16 # # of samples\n",
    "(nufft, nufft_adjoint, Anufft) = nufft_init(Ω, N)\n",
    "x = randn(ComplexF32, N) # random 1D signal\n",
    "y1 = nufft(x) # one way to compute NUFFT\n",
    "y2 = Anufft * x # another way to compute NUFFT\n",
    "@assert y1 == y2\n",
    "yd = dtft(Ω, x) # exact (slow) nonuniform discrete Fourier transform\n",
    "maximum(abs, yd - y1) # worst error for this 1D signal"
   ],
   "metadata": {},
   "execution_count": null
  },
  {
   "cell_type": "markdown",
   "source": [
    "This plot shows that the NUFFT is very close to the exact nonuniform DFT."
   ],
   "metadata": {}
  },
  {
   "outputs": [],
   "cell_type": "code",
   "source": [
    "xticks = ([-π,0,π], [\"-π\", \"0\", \"π\"]); xlims = (-π,π); xlabel=\"Ω\"\n",
    "p1 = plot(ylabel=\"Real part\"; xlabel, xlims, xticks)\n",
    "plot!(Ω, real(y1), label=\"real(NUFFT)\", line=:dash)\n",
    "plot!(Ω, real(yd), label=\"real(DTFT)\", line=:dot)\n",
    "p2 = plot(ylabel=\"Imag part\"; xlabel, xlims, xticks)\n",
    "plot!(Ω, imag(y1), label=\"imag(NUFFT)\", line=:dash)\n",
    "plot!(Ω, imag(yd), label=\"imag(NUFFT)\", line=:dot)\n",
    "p3 = plot(Ω, real(yd - y1), label=\"real(Error)\"; xlabel, xlims, xticks)\n",
    "p4 = plot(Ω, imag(yd - y1), label=\"imag(Error)\"; xlabel, xlims, xticks)\n",
    "plot(p1, p2, p3, p4)"
   ],
   "metadata": {},
   "execution_count": null
  },
  {
   "outputs": [],
   "cell_type": "code",
   "source": [
    "prompt()"
   ],
   "metadata": {},
   "execution_count": null
  },
  {
   "cell_type": "markdown",
   "source": [
    "## Plot worst-case errors vs $N$\n",
    "\n",
    "Plot worst-case error\n",
    "over all frequencies $Ω$ between $0$ and $2π/N$\n",
    "for various $N$.\n",
    "\n",
    "Even for $N=512$\n",
    "the error is below `4e-6`."
   ],
   "metadata": {}
  },
  {
   "outputs": [],
   "cell_type": "code",
   "source": [
    "Nlist = 2 .^ (4:9)\n",
    "Nlist = [Nlist..., 191, 385] # test odd N values\n",
    "errfunn = N -> maximum(nufft_errors( ; N)[2])\n",
    "elist = errfunn.(Nlist)\n",
    "pn = scatter(Nlist, elist,\n",
    "     xtick=Nlist, color=:red, xlabel=\"N\", ylabel=\"error\", yaxis=:log10)"
   ],
   "metadata": {},
   "execution_count": null
  },
  {
   "outputs": [],
   "cell_type": "code",
   "source": [
    "prompt()"
   ],
   "metadata": {},
   "execution_count": null
  },
  {
   "cell_type": "markdown",
   "source": [
    "## Plot error vs NFFT `m`.\n",
    "\n",
    "For the default `m = 4`\n",
    "the worst-case error is below `4e-6`."
   ],
   "metadata": {}
  },
  {
   "outputs": [],
   "cell_type": "code",
   "source": [
    "mlist = 3:7\n",
    "errfunm = nfft_m -> maximum(nufft_errors( ; nfft_m)[2])\n",
    "worst_m = errfunm.(mlist)\n",
    "pm = scatter(mlist, worst_m,\n",
    "    xlabel=\"m\", ylabel=\"error\", color=:magenta, yaxis=:log10)"
   ],
   "metadata": {},
   "execution_count": null
  },
  {
   "outputs": [],
   "cell_type": "code",
   "source": [
    "prompt()"
   ],
   "metadata": {},
   "execution_count": null
  },
  {
   "cell_type": "markdown",
   "source": [
    "## Plot error vs NFFT `sigma`.\n",
    "For the default `σ = 4`\n",
    "the worst-case error is below `4e-6`."
   ],
   "metadata": {}
  },
  {
   "outputs": [],
   "cell_type": "code",
   "source": [
    "slist = [1.5; 2:6] # σ\n",
    "errfuns = nfft_sigma -> maximum(nufft_errors( ; nfft_sigma)[2])\n",
    "worst_s = errfuns.(slist)\n",
    "ps = scatter(slist, worst_s,\n",
    "    xlabel=\"σ\", ylabel=\"error\", color=:blue, yaxis=:log10)"
   ],
   "metadata": {},
   "execution_count": null
  },
  {
   "outputs": [],
   "cell_type": "code",
   "source": [
    "prompt()"
   ],
   "metadata": {},
   "execution_count": null
  },
  {
   "cell_type": "markdown",
   "source": [
    "---\n",
    "\n",
    "*This notebook was generated using [Literate.jl](https://github.com/fredrikekre/Literate.jl).*"
   ],
   "metadata": {}
  }
 ],
 "nbformat_minor": 3,
 "metadata": {
  "language_info": {
   "file_extension": ".jl",
   "mimetype": "application/julia",
   "name": "julia",
   "version": "1.10.5"
  },
  "kernelspec": {
   "name": "julia-1.10",
   "display_name": "Julia 1.10.5",
   "language": "julia"
  }
 },
 "nbformat": 4
}
