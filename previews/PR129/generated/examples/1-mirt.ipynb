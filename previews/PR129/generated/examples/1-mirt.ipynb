{
 "cells": [
  {
   "cell_type": "markdown",
   "source": [
    "# MIRT overview"
   ],
   "metadata": {}
  },
  {
   "cell_type": "markdown",
   "source": [
    "The Julia package\n",
    "[`MIRT.jl`](https://github.com/JeffFessler/MIRT.jl)\n",
    "provides tools for performing image reconstruction\n",
    "and solving related inverse problems.\n",
    "\n",
    "For more tools and more examples,\n",
    "see\n",
    "[JuliaImageRecon](https://github.com/JuliaImageRecon)"
   ],
   "metadata": {}
  },
  {
   "cell_type": "markdown",
   "source": [
    "---\n",
    "\n",
    "*This notebook was generated using [Literate.jl](https://github.com/fredrikekre/Literate.jl).*"
   ],
   "metadata": {}
  }
 ],
 "nbformat_minor": 3,
 "metadata": {
  "language_info": {
   "file_extension": ".jl",
   "mimetype": "application/julia",
   "name": "julia",
   "version": "1.8.5"
  },
  "kernelspec": {
   "name": "julia-1.8",
   "display_name": "Julia 1.8.5",
   "language": "julia"
  }
 },
 "nbformat": 4
}
